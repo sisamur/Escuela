{
 "cells": [
  {
   "cell_type": "code",
   "execution_count": 1,
   "metadata": {},
   "outputs": [],
   "source": [
    "import pandas as pd\n",
    "import numpy as np\n",
    "from datetime import datetime\n",
    "import matplotlib.pyplot as plt\n",
    "from scipy import stats\n",
    "import statistics\n",
    "%matplotlib inline"
   ]
  },
  {
   "cell_type": "code",
   "execution_count": 2,
   "metadata": {},
   "outputs": [],
   "source": [
    "Hidalgo=pd.read_csv('Hidalgo.csv', encoding='latin-1')\n",
    "Hgodeagrup=pd.read_csv('hidalgosingroup.csv')"
   ]
  },
  {
   "cell_type": "code",
   "execution_count": null,
   "metadata": {},
   "outputs": [],
   "source": [
    "Hidalgo"
   ]
  },
  {
   "cell_type": "code",
   "execution_count": 3,
   "metadata": {
    "scrolled": true
   },
   "outputs": [
    {
     "data": {
      "text/html": [
       "<div>\n",
       "<style scoped>\n",
       "    .dataframe tbody tr th:only-of-type {\n",
       "        vertical-align: middle;\n",
       "    }\n",
       "\n",
       "    .dataframe tbody tr th {\n",
       "        vertical-align: top;\n",
       "    }\n",
       "\n",
       "    .dataframe thead th {\n",
       "        text-align: right;\n",
       "    }\n",
       "</style>\n",
       "<table border=\"1\" class=\"dataframe\">\n",
       "  <thead>\n",
       "    <tr style=\"text-align: right;\">\n",
       "      <th></th>\n",
       "      <th>index</th>\n",
       "      <th>Fecha</th>\n",
       "      <th>Entidad</th>\n",
       "      <th>conteo</th>\n",
       "      <th>Acumulados</th>\n",
       "    </tr>\n",
       "  </thead>\n",
       "  <tbody>\n",
       "    <tr>\n",
       "      <th>0</th>\n",
       "      <td>7</td>\n",
       "      <td>2020-02-27</td>\n",
       "      <td>HIDALGO</td>\n",
       "      <td>1</td>\n",
       "      <td>1</td>\n",
       "    </tr>\n",
       "    <tr>\n",
       "      <th>1</th>\n",
       "      <td>71</td>\n",
       "      <td>2020-03-15</td>\n",
       "      <td>HIDALGO</td>\n",
       "      <td>1</td>\n",
       "      <td>2</td>\n",
       "    </tr>\n",
       "    <tr>\n",
       "      <th>2</th>\n",
       "      <td>101</td>\n",
       "      <td>2020-03-17</td>\n",
       "      <td>HIDALGO</td>\n",
       "      <td>2</td>\n",
       "      <td>4</td>\n",
       "    </tr>\n",
       "    <tr>\n",
       "      <th>3</th>\n",
       "      <td>164</td>\n",
       "      <td>2020-03-20</td>\n",
       "      <td>HIDALGO</td>\n",
       "      <td>3</td>\n",
       "      <td>7</td>\n",
       "    </tr>\n",
       "    <tr>\n",
       "      <th>4</th>\n",
       "      <td>189</td>\n",
       "      <td>2020-03-21</td>\n",
       "      <td>HIDALGO</td>\n",
       "      <td>3</td>\n",
       "      <td>10</td>\n",
       "    </tr>\n",
       "    <tr>\n",
       "      <th>5</th>\n",
       "      <td>229</td>\n",
       "      <td>2020-03-23</td>\n",
       "      <td>HIDALGO</td>\n",
       "      <td>1</td>\n",
       "      <td>11</td>\n",
       "    </tr>\n",
       "    <tr>\n",
       "      <th>6</th>\n",
       "      <td>256</td>\n",
       "      <td>2020-03-24</td>\n",
       "      <td>HIDALGO</td>\n",
       "      <td>1</td>\n",
       "      <td>12</td>\n",
       "    </tr>\n",
       "    <tr>\n",
       "      <th>7</th>\n",
       "      <td>283</td>\n",
       "      <td>2020-03-25</td>\n",
       "      <td>HIDALGO</td>\n",
       "      <td>5</td>\n",
       "      <td>17</td>\n",
       "    </tr>\n",
       "    <tr>\n",
       "      <th>8</th>\n",
       "      <td>305</td>\n",
       "      <td>2020-03-26</td>\n",
       "      <td>HIDALGO</td>\n",
       "      <td>4</td>\n",
       "      <td>21</td>\n",
       "    </tr>\n",
       "    <tr>\n",
       "      <th>9</th>\n",
       "      <td>329</td>\n",
       "      <td>2020-03-27</td>\n",
       "      <td>HIDALGO</td>\n",
       "      <td>4</td>\n",
       "      <td>25</td>\n",
       "    </tr>\n",
       "    <tr>\n",
       "      <th>10</th>\n",
       "      <td>381</td>\n",
       "      <td>2020-03-29</td>\n",
       "      <td>HIDALGO</td>\n",
       "      <td>2</td>\n",
       "      <td>27</td>\n",
       "    </tr>\n",
       "    <tr>\n",
       "      <th>11</th>\n",
       "      <td>408</td>\n",
       "      <td>2020-03-30</td>\n",
       "      <td>HIDALGO</td>\n",
       "      <td>7</td>\n",
       "      <td>34</td>\n",
       "    </tr>\n",
       "    <tr>\n",
       "      <th>12</th>\n",
       "      <td>436</td>\n",
       "      <td>2020-03-31</td>\n",
       "      <td>HIDALGO</td>\n",
       "      <td>7</td>\n",
       "      <td>41</td>\n",
       "    </tr>\n",
       "    <tr>\n",
       "      <th>13</th>\n",
       "      <td>463</td>\n",
       "      <td>2020-04-01</td>\n",
       "      <td>HIDALGO</td>\n",
       "      <td>5</td>\n",
       "      <td>46</td>\n",
       "    </tr>\n",
       "    <tr>\n",
       "      <th>14</th>\n",
       "      <td>488</td>\n",
       "      <td>2020-04-02</td>\n",
       "      <td>HIDALGO</td>\n",
       "      <td>1</td>\n",
       "      <td>47</td>\n",
       "    </tr>\n",
       "    <tr>\n",
       "      <th>15</th>\n",
       "      <td>514</td>\n",
       "      <td>2020-04-03</td>\n",
       "      <td>HIDALGO</td>\n",
       "      <td>3</td>\n",
       "      <td>50</td>\n",
       "    </tr>\n",
       "    <tr>\n",
       "      <th>16</th>\n",
       "      <td>539</td>\n",
       "      <td>2020-04-04</td>\n",
       "      <td>HIDALGO</td>\n",
       "      <td>2</td>\n",
       "      <td>52</td>\n",
       "    </tr>\n",
       "    <tr>\n",
       "      <th>17</th>\n",
       "      <td>569</td>\n",
       "      <td>2020-04-05</td>\n",
       "      <td>HIDALGO</td>\n",
       "      <td>1</td>\n",
       "      <td>53</td>\n",
       "    </tr>\n",
       "    <tr>\n",
       "      <th>18</th>\n",
       "      <td>599</td>\n",
       "      <td>2020-04-06</td>\n",
       "      <td>HIDALGO</td>\n",
       "      <td>3</td>\n",
       "      <td>56</td>\n",
       "    </tr>\n",
       "    <tr>\n",
       "      <th>19</th>\n",
       "      <td>628</td>\n",
       "      <td>2020-04-07</td>\n",
       "      <td>HIDALGO</td>\n",
       "      <td>3</td>\n",
       "      <td>59</td>\n",
       "    </tr>\n",
       "    <tr>\n",
       "      <th>20</th>\n",
       "      <td>655</td>\n",
       "      <td>2020-04-08</td>\n",
       "      <td>HIDALGO</td>\n",
       "      <td>1</td>\n",
       "      <td>60</td>\n",
       "    </tr>\n",
       "    <tr>\n",
       "      <th>21</th>\n",
       "      <td>713</td>\n",
       "      <td>2020-04-10</td>\n",
       "      <td>HIDALGO</td>\n",
       "      <td>7</td>\n",
       "      <td>67</td>\n",
       "    </tr>\n",
       "    <tr>\n",
       "      <th>22</th>\n",
       "      <td>743</td>\n",
       "      <td>2020-04-11</td>\n",
       "      <td>HIDALGO</td>\n",
       "      <td>3</td>\n",
       "      <td>70</td>\n",
       "    </tr>\n",
       "    <tr>\n",
       "      <th>23</th>\n",
       "      <td>773</td>\n",
       "      <td>2020-04-12</td>\n",
       "      <td>HIDALGO</td>\n",
       "      <td>5</td>\n",
       "      <td>75</td>\n",
       "    </tr>\n",
       "    <tr>\n",
       "      <th>24</th>\n",
       "      <td>802</td>\n",
       "      <td>2020-04-13</td>\n",
       "      <td>HIDALGO</td>\n",
       "      <td>7</td>\n",
       "      <td>82</td>\n",
       "    </tr>\n",
       "    <tr>\n",
       "      <th>25</th>\n",
       "      <td>831</td>\n",
       "      <td>2020-04-14</td>\n",
       "      <td>HIDALGO</td>\n",
       "      <td>8</td>\n",
       "      <td>90</td>\n",
       "    </tr>\n",
       "    <tr>\n",
       "      <th>26</th>\n",
       "      <td>863</td>\n",
       "      <td>2020-04-15</td>\n",
       "      <td>HIDALGO</td>\n",
       "      <td>4</td>\n",
       "      <td>94</td>\n",
       "    </tr>\n",
       "    <tr>\n",
       "      <th>27</th>\n",
       "      <td>895</td>\n",
       "      <td>2020-04-16</td>\n",
       "      <td>HIDALGO</td>\n",
       "      <td>4</td>\n",
       "      <td>98</td>\n",
       "    </tr>\n",
       "    <tr>\n",
       "      <th>28</th>\n",
       "      <td>926</td>\n",
       "      <td>2020-04-17</td>\n",
       "      <td>HIDALGO</td>\n",
       "      <td>9</td>\n",
       "      <td>107</td>\n",
       "    </tr>\n",
       "    <tr>\n",
       "      <th>29</th>\n",
       "      <td>958</td>\n",
       "      <td>2020-04-18</td>\n",
       "      <td>HIDALGO</td>\n",
       "      <td>6</td>\n",
       "      <td>113</td>\n",
       "    </tr>\n",
       "    <tr>\n",
       "      <th>30</th>\n",
       "      <td>990</td>\n",
       "      <td>2020-04-19</td>\n",
       "      <td>HIDALGO</td>\n",
       "      <td>13</td>\n",
       "      <td>126</td>\n",
       "    </tr>\n",
       "    <tr>\n",
       "      <th>31</th>\n",
       "      <td>1021</td>\n",
       "      <td>2020-04-20</td>\n",
       "      <td>HIDALGO</td>\n",
       "      <td>13</td>\n",
       "      <td>139</td>\n",
       "    </tr>\n",
       "    <tr>\n",
       "      <th>32</th>\n",
       "      <td>1053</td>\n",
       "      <td>2020-04-21</td>\n",
       "      <td>HIDALGO</td>\n",
       "      <td>10</td>\n",
       "      <td>149</td>\n",
       "    </tr>\n",
       "    <tr>\n",
       "      <th>33</th>\n",
       "      <td>1085</td>\n",
       "      <td>2020-04-22</td>\n",
       "      <td>HIDALGO</td>\n",
       "      <td>16</td>\n",
       "      <td>165</td>\n",
       "    </tr>\n",
       "    <tr>\n",
       "      <th>34</th>\n",
       "      <td>1117</td>\n",
       "      <td>2020-04-23</td>\n",
       "      <td>HIDALGO</td>\n",
       "      <td>19</td>\n",
       "      <td>184</td>\n",
       "    </tr>\n",
       "    <tr>\n",
       "      <th>35</th>\n",
       "      <td>1149</td>\n",
       "      <td>2020-04-24</td>\n",
       "      <td>HIDALGO</td>\n",
       "      <td>16</td>\n",
       "      <td>200</td>\n",
       "    </tr>\n",
       "    <tr>\n",
       "      <th>36</th>\n",
       "      <td>1181</td>\n",
       "      <td>2020-04-25</td>\n",
       "      <td>HIDALGO</td>\n",
       "      <td>23</td>\n",
       "      <td>223</td>\n",
       "    </tr>\n",
       "    <tr>\n",
       "      <th>37</th>\n",
       "      <td>1211</td>\n",
       "      <td>2020-04-26</td>\n",
       "      <td>HIDALGO</td>\n",
       "      <td>17</td>\n",
       "      <td>240</td>\n",
       "    </tr>\n",
       "    <tr>\n",
       "      <th>38</th>\n",
       "      <td>1243</td>\n",
       "      <td>2020-04-27</td>\n",
       "      <td>HIDALGO</td>\n",
       "      <td>24</td>\n",
       "      <td>264</td>\n",
       "    </tr>\n",
       "    <tr>\n",
       "      <th>39</th>\n",
       "      <td>1274</td>\n",
       "      <td>2020-04-28</td>\n",
       "      <td>HIDALGO</td>\n",
       "      <td>25</td>\n",
       "      <td>289</td>\n",
       "    </tr>\n",
       "    <tr>\n",
       "      <th>40</th>\n",
       "      <td>1305</td>\n",
       "      <td>2020-04-29</td>\n",
       "      <td>HIDALGO</td>\n",
       "      <td>25</td>\n",
       "      <td>314</td>\n",
       "    </tr>\n",
       "    <tr>\n",
       "      <th>41</th>\n",
       "      <td>1337</td>\n",
       "      <td>2020-04-30</td>\n",
       "      <td>HIDALGO</td>\n",
       "      <td>31</td>\n",
       "      <td>345</td>\n",
       "    </tr>\n",
       "    <tr>\n",
       "      <th>42</th>\n",
       "      <td>1369</td>\n",
       "      <td>2020-05-01</td>\n",
       "      <td>HIDALGO</td>\n",
       "      <td>26</td>\n",
       "      <td>371</td>\n",
       "    </tr>\n",
       "    <tr>\n",
       "      <th>43</th>\n",
       "      <td>1400</td>\n",
       "      <td>2020-05-02</td>\n",
       "      <td>HIDALGO</td>\n",
       "      <td>21</td>\n",
       "      <td>392</td>\n",
       "    </tr>\n",
       "    <tr>\n",
       "      <th>44</th>\n",
       "      <td>1432</td>\n",
       "      <td>2020-05-03</td>\n",
       "      <td>HIDALGO</td>\n",
       "      <td>28</td>\n",
       "      <td>420</td>\n",
       "    </tr>\n",
       "    <tr>\n",
       "      <th>45</th>\n",
       "      <td>1464</td>\n",
       "      <td>2020-05-04</td>\n",
       "      <td>HIDALGO</td>\n",
       "      <td>32</td>\n",
       "      <td>452</td>\n",
       "    </tr>\n",
       "    <tr>\n",
       "      <th>46</th>\n",
       "      <td>1496</td>\n",
       "      <td>2020-05-05</td>\n",
       "      <td>HIDALGO</td>\n",
       "      <td>29</td>\n",
       "      <td>481</td>\n",
       "    </tr>\n",
       "    <tr>\n",
       "      <th>47</th>\n",
       "      <td>1528</td>\n",
       "      <td>2020-05-06</td>\n",
       "      <td>HIDALGO</td>\n",
       "      <td>38</td>\n",
       "      <td>519</td>\n",
       "    </tr>\n",
       "    <tr>\n",
       "      <th>48</th>\n",
       "      <td>1560</td>\n",
       "      <td>2020-05-07</td>\n",
       "      <td>HIDALGO</td>\n",
       "      <td>37</td>\n",
       "      <td>556</td>\n",
       "    </tr>\n",
       "    <tr>\n",
       "      <th>49</th>\n",
       "      <td>1592</td>\n",
       "      <td>2020-05-08</td>\n",
       "      <td>HIDALGO</td>\n",
       "      <td>30</td>\n",
       "      <td>586</td>\n",
       "    </tr>\n",
       "    <tr>\n",
       "      <th>50</th>\n",
       "      <td>1623</td>\n",
       "      <td>2020-05-09</td>\n",
       "      <td>HIDALGO</td>\n",
       "      <td>23</td>\n",
       "      <td>609</td>\n",
       "    </tr>\n",
       "    <tr>\n",
       "      <th>51</th>\n",
       "      <td>1655</td>\n",
       "      <td>2020-05-10</td>\n",
       "      <td>HIDALGO</td>\n",
       "      <td>19</td>\n",
       "      <td>628</td>\n",
       "    </tr>\n",
       "    <tr>\n",
       "      <th>52</th>\n",
       "      <td>1687</td>\n",
       "      <td>2020-05-11</td>\n",
       "      <td>HIDALGO</td>\n",
       "      <td>43</td>\n",
       "      <td>671</td>\n",
       "    </tr>\n",
       "    <tr>\n",
       "      <th>53</th>\n",
       "      <td>1719</td>\n",
       "      <td>2020-05-12</td>\n",
       "      <td>HIDALGO</td>\n",
       "      <td>50</td>\n",
       "      <td>721</td>\n",
       "    </tr>\n",
       "    <tr>\n",
       "      <th>54</th>\n",
       "      <td>1751</td>\n",
       "      <td>2020-05-13</td>\n",
       "      <td>HIDALGO</td>\n",
       "      <td>34</td>\n",
       "      <td>755</td>\n",
       "    </tr>\n",
       "    <tr>\n",
       "      <th>55</th>\n",
       "      <td>1780</td>\n",
       "      <td>2020-05-14</td>\n",
       "      <td>HIDALGO</td>\n",
       "      <td>37</td>\n",
       "      <td>792</td>\n",
       "    </tr>\n",
       "    <tr>\n",
       "      <th>56</th>\n",
       "      <td>1806</td>\n",
       "      <td>2020-05-15</td>\n",
       "      <td>HIDALGO</td>\n",
       "      <td>20</td>\n",
       "      <td>812</td>\n",
       "    </tr>\n",
       "  </tbody>\n",
       "</table>\n",
       "</div>"
      ],
      "text/plain": [
       "    index       Fecha  Entidad  conteo  Acumulados\n",
       "0       7  2020-02-27  HIDALGO       1           1\n",
       "1      71  2020-03-15  HIDALGO       1           2\n",
       "2     101  2020-03-17  HIDALGO       2           4\n",
       "3     164  2020-03-20  HIDALGO       3           7\n",
       "4     189  2020-03-21  HIDALGO       3          10\n",
       "5     229  2020-03-23  HIDALGO       1          11\n",
       "6     256  2020-03-24  HIDALGO       1          12\n",
       "7     283  2020-03-25  HIDALGO       5          17\n",
       "8     305  2020-03-26  HIDALGO       4          21\n",
       "9     329  2020-03-27  HIDALGO       4          25\n",
       "10    381  2020-03-29  HIDALGO       2          27\n",
       "11    408  2020-03-30  HIDALGO       7          34\n",
       "12    436  2020-03-31  HIDALGO       7          41\n",
       "13    463  2020-04-01  HIDALGO       5          46\n",
       "14    488  2020-04-02  HIDALGO       1          47\n",
       "15    514  2020-04-03  HIDALGO       3          50\n",
       "16    539  2020-04-04  HIDALGO       2          52\n",
       "17    569  2020-04-05  HIDALGO       1          53\n",
       "18    599  2020-04-06  HIDALGO       3          56\n",
       "19    628  2020-04-07  HIDALGO       3          59\n",
       "20    655  2020-04-08  HIDALGO       1          60\n",
       "21    713  2020-04-10  HIDALGO       7          67\n",
       "22    743  2020-04-11  HIDALGO       3          70\n",
       "23    773  2020-04-12  HIDALGO       5          75\n",
       "24    802  2020-04-13  HIDALGO       7          82\n",
       "25    831  2020-04-14  HIDALGO       8          90\n",
       "26    863  2020-04-15  HIDALGO       4          94\n",
       "27    895  2020-04-16  HIDALGO       4          98\n",
       "28    926  2020-04-17  HIDALGO       9         107\n",
       "29    958  2020-04-18  HIDALGO       6         113\n",
       "30    990  2020-04-19  HIDALGO      13         126\n",
       "31   1021  2020-04-20  HIDALGO      13         139\n",
       "32   1053  2020-04-21  HIDALGO      10         149\n",
       "33   1085  2020-04-22  HIDALGO      16         165\n",
       "34   1117  2020-04-23  HIDALGO      19         184\n",
       "35   1149  2020-04-24  HIDALGO      16         200\n",
       "36   1181  2020-04-25  HIDALGO      23         223\n",
       "37   1211  2020-04-26  HIDALGO      17         240\n",
       "38   1243  2020-04-27  HIDALGO      24         264\n",
       "39   1274  2020-04-28  HIDALGO      25         289\n",
       "40   1305  2020-04-29  HIDALGO      25         314\n",
       "41   1337  2020-04-30  HIDALGO      31         345\n",
       "42   1369  2020-05-01  HIDALGO      26         371\n",
       "43   1400  2020-05-02  HIDALGO      21         392\n",
       "44   1432  2020-05-03  HIDALGO      28         420\n",
       "45   1464  2020-05-04  HIDALGO      32         452\n",
       "46   1496  2020-05-05  HIDALGO      29         481\n",
       "47   1528  2020-05-06  HIDALGO      38         519\n",
       "48   1560  2020-05-07  HIDALGO      37         556\n",
       "49   1592  2020-05-08  HIDALGO      30         586\n",
       "50   1623  2020-05-09  HIDALGO      23         609\n",
       "51   1655  2020-05-10  HIDALGO      19         628\n",
       "52   1687  2020-05-11  HIDALGO      43         671\n",
       "53   1719  2020-05-12  HIDALGO      50         721\n",
       "54   1751  2020-05-13  HIDALGO      34         755\n",
       "55   1780  2020-05-14  HIDALGO      37         792\n",
       "56   1806  2020-05-15  HIDALGO      20         812"
      ]
     },
     "execution_count": 3,
     "metadata": {},
     "output_type": "execute_result"
    }
   ],
   "source": [
    "Hidalgo"
   ]
  },
  {
   "cell_type": "code",
   "execution_count": 4,
   "metadata": {},
   "outputs": [
    {
     "data": {
      "text/plain": [
       "260.7827715355805"
      ]
     },
     "execution_count": 4,
     "metadata": {},
     "output_type": "execute_result"
    }
   ],
   "source": [
    "Z=1.96\n",
    "p=0.5\n",
    "q=0.5\n",
    "N=812\n",
    "E=0.05\n",
    "n=((Z**2)*q*p*812)/((812*(E**2))+((Z**2)*p*q))\n",
    "n"
   ]
  },
  {
   "cell_type": "code",
   "execution_count": 7,
   "metadata": {},
   "outputs": [
    {
     "data": {
      "text/html": [
       "<div>\n",
       "<style scoped>\n",
       "    .dataframe tbody tr th:only-of-type {\n",
       "        vertical-align: middle;\n",
       "    }\n",
       "\n",
       "    .dataframe tbody tr th {\n",
       "        vertical-align: top;\n",
       "    }\n",
       "\n",
       "    .dataframe thead th {\n",
       "        text-align: right;\n",
       "    }\n",
       "</style>\n",
       "<table border=\"1\" class=\"dataframe\">\n",
       "  <thead>\n",
       "    <tr style=\"text-align: right;\">\n",
       "      <th></th>\n",
       "      <th>ENTIDAD_RES</th>\n",
       "      <th>FECHA_INGRESO</th>\n",
       "    </tr>\n",
       "  </thead>\n",
       "  <tbody>\n",
       "    <tr>\n",
       "      <th>0</th>\n",
       "      <td>HIDALGO</td>\n",
       "      <td>01/05/2020</td>\n",
       "    </tr>\n",
       "    <tr>\n",
       "      <th>1</th>\n",
       "      <td>HIDALGO</td>\n",
       "      <td>28/04/2020</td>\n",
       "    </tr>\n",
       "    <tr>\n",
       "      <th>2</th>\n",
       "      <td>HIDALGO</td>\n",
       "      <td>06/05/2020</td>\n",
       "    </tr>\n",
       "    <tr>\n",
       "      <th>3</th>\n",
       "      <td>HIDALGO</td>\n",
       "      <td>06/05/2020</td>\n",
       "    </tr>\n",
       "    <tr>\n",
       "      <th>4</th>\n",
       "      <td>HIDALGO</td>\n",
       "      <td>30/04/2020</td>\n",
       "    </tr>\n",
       "    <tr>\n",
       "      <th>...</th>\n",
       "      <td>...</td>\n",
       "      <td>...</td>\n",
       "    </tr>\n",
       "    <tr>\n",
       "      <th>807</th>\n",
       "      <td>HIDALGO</td>\n",
       "      <td>06/05/2020</td>\n",
       "    </tr>\n",
       "    <tr>\n",
       "      <th>808</th>\n",
       "      <td>HIDALGO</td>\n",
       "      <td>29/04/2020</td>\n",
       "    </tr>\n",
       "    <tr>\n",
       "      <th>809</th>\n",
       "      <td>HIDALGO</td>\n",
       "      <td>03/05/2020</td>\n",
       "    </tr>\n",
       "    <tr>\n",
       "      <th>810</th>\n",
       "      <td>HIDALGO</td>\n",
       "      <td>12/05/2020</td>\n",
       "    </tr>\n",
       "    <tr>\n",
       "      <th>811</th>\n",
       "      <td>HIDALGO</td>\n",
       "      <td>13/05/2020</td>\n",
       "    </tr>\n",
       "  </tbody>\n",
       "</table>\n",
       "<p>812 rows × 2 columns</p>\n",
       "</div>"
      ],
      "text/plain": [
       "    ENTIDAD_RES FECHA_INGRESO\n",
       "0       HIDALGO    01/05/2020\n",
       "1       HIDALGO    28/04/2020\n",
       "2       HIDALGO    06/05/2020\n",
       "3       HIDALGO    06/05/2020\n",
       "4       HIDALGO    30/04/2020\n",
       "..          ...           ...\n",
       "807     HIDALGO    06/05/2020\n",
       "808     HIDALGO    29/04/2020\n",
       "809     HIDALGO    03/05/2020\n",
       "810     HIDALGO    12/05/2020\n",
       "811     HIDALGO    13/05/2020\n",
       "\n",
       "[812 rows x 2 columns]"
      ]
     },
     "execution_count": 7,
     "metadata": {},
     "output_type": "execute_result"
    }
   ],
   "source": [
    "Hgodeagrup=Hgodeagrup.drop('index',axis=1)\n",
    "Hgodeagrup"
   ]
  },
  {
   "cell_type": "code",
   "execution_count": 10,
   "metadata": {},
   "outputs": [
    {
     "data": {
      "text/plain": [
       "array([559, 724, 439, 412,  56, 365, 186,  61, 385, 277, 654, 406, 420,\n",
       "       381, 135, 799, 450,  78, 801, 277,  73, 760, 316, 776, 469, 197,\n",
       "       320, 337, 636, 301,  14,  34, 378, 683, 669, 435, 110, 262, 325,\n",
       "       669, 728, 794, 684, 508, 218, 726, 438, 276, 544, 268, 614, 403,\n",
       "        94, 185, 791, 617,  56, 290, 409, 377, 543, 509, 176,  20, 329,\n",
       "       526, 386, 151,  46, 519, 724, 601, 418, 763, 291, 467, 362, 474,\n",
       "       220, 236, 352, 772, 227, 244,   1, 274,  67, 116, 430, 759, 141,\n",
       "       202, 604, 329, 730, 288, 468, 176, 544, 343, 743, 808, 647, 562,\n",
       "       236, 292, 403,  73, 550, 456, 140, 810, 782, 193, 748, 100, 615,\n",
       "       412, 299, 597, 299, 564, 540, 227, 432, 640, 590, 131, 692, 569,\n",
       "        53, 750, 489, 495,  35, 350, 605, 637, 397,  85,   6, 509, 734,\n",
       "       234, 474, 550, 554, 652, 757, 461, 740, 124, 148, 142, 660, 205,\n",
       "       808, 192, 642, 222, 471, 765, 129, 796, 728, 320, 161, 231, 193,\n",
       "       763, 629, 134, 113, 569,  20, 735, 143, 287, 385, 275, 408, 700,\n",
       "       336, 612, 571, 416, 801, 377, 447, 715, 656, 575, 560, 662, 340,\n",
       "       725, 198, 127, 737, 718, 411, 791, 128, 101, 269, 242,  32, 690,\n",
       "       257, 682, 717, 675, 645, 167, 458, 136, 421,  76, 753, 147, 586,\n",
       "       615, 220, 778, 500, 135, 764, 804, 140, 768, 347, 201, 101, 340,\n",
       "       526, 208, 170, 452, 149,  73, 729, 625, 651, 579, 641,  21, 247,\n",
       "       300, 606, 803, 488, 695, 578, 333, 537, 148, 413, 117, 171, 368,\n",
       "       322])"
      ]
     },
     "execution_count": 10,
     "metadata": {},
     "output_type": "execute_result"
    }
   ],
   "source": [
    "aleatorio=np.random.randint(0,811,261)\n",
    "aleatorio"
   ]
  },
  {
   "cell_type": "code",
   "execution_count": 12,
   "metadata": {},
   "outputs": [
    {
     "data": {
      "text/plain": [
       "261"
      ]
     },
     "execution_count": 12,
     "metadata": {},
     "output_type": "execute_result"
    }
   ],
   "source": [
    "len(aleatorio)"
   ]
  },
  {
   "cell_type": "code",
   "execution_count": 14,
   "metadata": {},
   "outputs": [
    {
     "data": {
      "text/plain": [
       "261"
      ]
     },
     "execution_count": 14,
     "metadata": {},
     "output_type": "execute_result"
    }
   ],
   "source": [
    "Filter_df  = Hgodeagrup.loc[aleatorio]\n",
    "len(Filter_df)"
   ]
  },
  {
   "cell_type": "code",
   "execution_count": 40,
   "metadata": {},
   "outputs": [
    {
     "data": {
      "text/html": [
       "<div>\n",
       "<style scoped>\n",
       "    .dataframe tbody tr th:only-of-type {\n",
       "        vertical-align: middle;\n",
       "    }\n",
       "\n",
       "    .dataframe tbody tr th {\n",
       "        vertical-align: top;\n",
       "    }\n",
       "\n",
       "    .dataframe thead th {\n",
       "        text-align: right;\n",
       "    }\n",
       "</style>\n",
       "<table border=\"1\" class=\"dataframe\">\n",
       "  <thead>\n",
       "    <tr style=\"text-align: right;\">\n",
       "      <th></th>\n",
       "      <th>FECHA_INGRESO</th>\n",
       "      <th>CONTEO</th>\n",
       "    </tr>\n",
       "  </thead>\n",
       "  <tbody>\n",
       "    <tr>\n",
       "      <th>29</th>\n",
       "      <td>2020-03-20</td>\n",
       "      <td>1</td>\n",
       "    </tr>\n",
       "    <tr>\n",
       "      <th>34</th>\n",
       "      <td>2020-03-24</td>\n",
       "      <td>1</td>\n",
       "    </tr>\n",
       "    <tr>\n",
       "      <th>36</th>\n",
       "      <td>2020-03-25</td>\n",
       "      <td>1</td>\n",
       "    </tr>\n",
       "    <tr>\n",
       "      <th>38</th>\n",
       "      <td>2020-03-26</td>\n",
       "      <td>2</td>\n",
       "    </tr>\n",
       "    <tr>\n",
       "      <th>40</th>\n",
       "      <td>2020-03-27</td>\n",
       "      <td>1</td>\n",
       "    </tr>\n",
       "    <tr>\n",
       "      <th>45</th>\n",
       "      <td>2020-03-31</td>\n",
       "      <td>2</td>\n",
       "    </tr>\n",
       "    <tr>\n",
       "      <th>0</th>\n",
       "      <td>2020-04-01</td>\n",
       "      <td>1</td>\n",
       "    </tr>\n",
       "    <tr>\n",
       "      <th>3</th>\n",
       "      <td>2020-04-03</td>\n",
       "      <td>1</td>\n",
       "    </tr>\n",
       "    <tr>\n",
       "      <th>6</th>\n",
       "      <td>2020-04-05</td>\n",
       "      <td>2</td>\n",
       "    </tr>\n",
       "    <tr>\n",
       "      <th>9</th>\n",
       "      <td>2020-04-07</td>\n",
       "      <td>3</td>\n",
       "    </tr>\n",
       "    <tr>\n",
       "      <th>13</th>\n",
       "      <td>2020-04-10</td>\n",
       "      <td>4</td>\n",
       "    </tr>\n",
       "    <tr>\n",
       "      <th>15</th>\n",
       "      <td>2020-04-11</td>\n",
       "      <td>1</td>\n",
       "    </tr>\n",
       "    <tr>\n",
       "      <th>17</th>\n",
       "      <td>2020-04-12</td>\n",
       "      <td>1</td>\n",
       "    </tr>\n",
       "    <tr>\n",
       "      <th>19</th>\n",
       "      <td>2020-04-13</td>\n",
       "      <td>1</td>\n",
       "    </tr>\n",
       "    <tr>\n",
       "      <th>21</th>\n",
       "      <td>2020-04-14</td>\n",
       "      <td>3</td>\n",
       "    </tr>\n",
       "    <tr>\n",
       "      <th>23</th>\n",
       "      <td>2020-04-15</td>\n",
       "      <td>2</td>\n",
       "    </tr>\n",
       "    <tr>\n",
       "      <th>25</th>\n",
       "      <td>2020-04-16</td>\n",
       "      <td>1</td>\n",
       "    </tr>\n",
       "    <tr>\n",
       "      <th>26</th>\n",
       "      <td>2020-04-17</td>\n",
       "      <td>5</td>\n",
       "    </tr>\n",
       "    <tr>\n",
       "      <th>27</th>\n",
       "      <td>2020-04-18</td>\n",
       "      <td>3</td>\n",
       "    </tr>\n",
       "    <tr>\n",
       "      <th>28</th>\n",
       "      <td>2020-04-19</td>\n",
       "      <td>6</td>\n",
       "    </tr>\n",
       "    <tr>\n",
       "      <th>30</th>\n",
       "      <td>2020-04-20</td>\n",
       "      <td>3</td>\n",
       "    </tr>\n",
       "    <tr>\n",
       "      <th>31</th>\n",
       "      <td>2020-04-21</td>\n",
       "      <td>5</td>\n",
       "    </tr>\n",
       "    <tr>\n",
       "      <th>32</th>\n",
       "      <td>2020-04-22</td>\n",
       "      <td>4</td>\n",
       "    </tr>\n",
       "    <tr>\n",
       "      <th>33</th>\n",
       "      <td>2020-04-23</td>\n",
       "      <td>9</td>\n",
       "    </tr>\n",
       "    <tr>\n",
       "      <th>35</th>\n",
       "      <td>2020-04-24</td>\n",
       "      <td>3</td>\n",
       "    </tr>\n",
       "    <tr>\n",
       "      <th>37</th>\n",
       "      <td>2020-04-25</td>\n",
       "      <td>11</td>\n",
       "    </tr>\n",
       "    <tr>\n",
       "      <th>39</th>\n",
       "      <td>2020-04-26</td>\n",
       "      <td>6</td>\n",
       "    </tr>\n",
       "    <tr>\n",
       "      <th>41</th>\n",
       "      <td>2020-04-27</td>\n",
       "      <td>9</td>\n",
       "    </tr>\n",
       "    <tr>\n",
       "      <th>42</th>\n",
       "      <td>2020-04-28</td>\n",
       "      <td>6</td>\n",
       "    </tr>\n",
       "    <tr>\n",
       "      <th>43</th>\n",
       "      <td>2020-04-29</td>\n",
       "      <td>11</td>\n",
       "    </tr>\n",
       "    <tr>\n",
       "      <th>44</th>\n",
       "      <td>2020-04-30</td>\n",
       "      <td>4</td>\n",
       "    </tr>\n",
       "    <tr>\n",
       "      <th>1</th>\n",
       "      <td>2020-05-01</td>\n",
       "      <td>5</td>\n",
       "    </tr>\n",
       "    <tr>\n",
       "      <th>2</th>\n",
       "      <td>2020-05-02</td>\n",
       "      <td>6</td>\n",
       "    </tr>\n",
       "    <tr>\n",
       "      <th>4</th>\n",
       "      <td>2020-05-03</td>\n",
       "      <td>11</td>\n",
       "    </tr>\n",
       "    <tr>\n",
       "      <th>5</th>\n",
       "      <td>2020-05-04</td>\n",
       "      <td>9</td>\n",
       "    </tr>\n",
       "    <tr>\n",
       "      <th>7</th>\n",
       "      <td>2020-05-05</td>\n",
       "      <td>2</td>\n",
       "    </tr>\n",
       "    <tr>\n",
       "      <th>8</th>\n",
       "      <td>2020-05-06</td>\n",
       "      <td>15</td>\n",
       "    </tr>\n",
       "    <tr>\n",
       "      <th>10</th>\n",
       "      <td>2020-05-07</td>\n",
       "      <td>16</td>\n",
       "    </tr>\n",
       "    <tr>\n",
       "      <th>11</th>\n",
       "      <td>2020-05-08</td>\n",
       "      <td>15</td>\n",
       "    </tr>\n",
       "    <tr>\n",
       "      <th>12</th>\n",
       "      <td>2020-05-09</td>\n",
       "      <td>3</td>\n",
       "    </tr>\n",
       "    <tr>\n",
       "      <th>14</th>\n",
       "      <td>2020-05-10</td>\n",
       "      <td>5</td>\n",
       "    </tr>\n",
       "    <tr>\n",
       "      <th>16</th>\n",
       "      <td>2020-05-11</td>\n",
       "      <td>16</td>\n",
       "    </tr>\n",
       "    <tr>\n",
       "      <th>18</th>\n",
       "      <td>2020-05-12</td>\n",
       "      <td>10</td>\n",
       "    </tr>\n",
       "    <tr>\n",
       "      <th>20</th>\n",
       "      <td>2020-05-13</td>\n",
       "      <td>10</td>\n",
       "    </tr>\n",
       "    <tr>\n",
       "      <th>22</th>\n",
       "      <td>2020-05-14</td>\n",
       "      <td>15</td>\n",
       "    </tr>\n",
       "    <tr>\n",
       "      <th>24</th>\n",
       "      <td>2020-05-15</td>\n",
       "      <td>10</td>\n",
       "    </tr>\n",
       "  </tbody>\n",
       "</table>\n",
       "</div>"
      ],
      "text/plain": [
       "   FECHA_INGRESO  CONTEO\n",
       "29    2020-03-20       1\n",
       "34    2020-03-24       1\n",
       "36    2020-03-25       1\n",
       "38    2020-03-26       2\n",
       "40    2020-03-27       1\n",
       "45    2020-03-31       2\n",
       "0     2020-04-01       1\n",
       "3     2020-04-03       1\n",
       "6     2020-04-05       2\n",
       "9     2020-04-07       3\n",
       "13    2020-04-10       4\n",
       "15    2020-04-11       1\n",
       "17    2020-04-12       1\n",
       "19    2020-04-13       1\n",
       "21    2020-04-14       3\n",
       "23    2020-04-15       2\n",
       "25    2020-04-16       1\n",
       "26    2020-04-17       5\n",
       "27    2020-04-18       3\n",
       "28    2020-04-19       6\n",
       "30    2020-04-20       3\n",
       "31    2020-04-21       5\n",
       "32    2020-04-22       4\n",
       "33    2020-04-23       9\n",
       "35    2020-04-24       3\n",
       "37    2020-04-25      11\n",
       "39    2020-04-26       6\n",
       "41    2020-04-27       9\n",
       "42    2020-04-28       6\n",
       "43    2020-04-29      11\n",
       "44    2020-04-30       4\n",
       "1     2020-05-01       5\n",
       "2     2020-05-02       6\n",
       "4     2020-05-03      11\n",
       "5     2020-05-04       9\n",
       "7     2020-05-05       2\n",
       "8     2020-05-06      15\n",
       "10    2020-05-07      16\n",
       "11    2020-05-08      15\n",
       "12    2020-05-09       3\n",
       "14    2020-05-10       5\n",
       "16    2020-05-11      16\n",
       "18    2020-05-12      10\n",
       "20    2020-05-13      10\n",
       "22    2020-05-14      15\n",
       "24    2020-05-15      10"
      ]
     },
     "execution_count": 40,
     "metadata": {},
     "output_type": "execute_result"
    }
   ],
   "source": [
    "filtrado=Filter_df.groupby(Filter_df['FECHA_INGRESO']).count().reset_index()\n",
    "filtrado['FECHA_INGRESO']=list(map(lambda x: datetime.strptime(x,'%d/%m/%Y').date(), filtrado['FECHA_INGRESO']))\n",
    "filtrado=filtrado.sort_values('FECHA_INGRESO')\n",
    "filtrado=filtrado.rename(columns={\"ENTIDAD_RES\": 'CONTEO'})\n",
    "filtrado"
   ]
  },
  {
   "cell_type": "code",
   "execution_count": 48,
   "metadata": {},
   "outputs": [
    {
     "data": {
      "image/png": "[encoded data removed]",
      "text/plain": [
       "<Figure size 1080x576 with 1 Axes>"
      ]
     },
     "metadata": {
      "needs_background": "light"
     },
     "output_type": "display_data"
    }
   ],
   "source": [
    "x_pos = [str(i) for i in filtrado['FECHA_INGRESO']]\n",
    "plt.figure(figsize=(15,8))\n",
    "plt.bar(x_pos,filtrado['CONTEO'],width=0.9,color='green')\n",
    "plt.xticks(rotation=90)\n",
    "plt.title(\"Histograma\")\n",
    "plt.xlabel(\"Calificaciones finales\")\n",
    "plt.xlabel(\"Tiempo de espera\")\n",
    "plt.ylabel(\"Frecuencia\")\n",
    "plt.show()"
   ]
  },
  {
   "cell_type": "code",
   "execution_count": 49,
   "metadata": {},
   "outputs": [
    {
     "data": {
      "text/plain": [
       "5.673913043478261"
      ]
     },
     "execution_count": 49,
     "metadata": {},
     "output_type": "execute_result"
    }
   ],
   "source": [
    "N=sum(filtrado['CONTEO'])\n",
    "np.mean(filtrado['CONTEO'])"
   ]
  },
  {
   "cell_type": "code",
   "execution_count": 52,
   "metadata": {},
   "outputs": [
    {
     "data": {
      "text/plain": [
       "5.673913043478261"
      ]
     },
     "execution_count": 52,
     "metadata": {},
     "output_type": "execute_result"
    }
   ],
   "source": [
    "N/46"
   ]
  },
  {
   "cell_type": "code",
   "execution_count": 54,
   "metadata": {},
   "outputs": [
    {
     "data": {
      "text/plain": [
       "ModeResult(mode=array([1], dtype=int64), count=array([10]))"
      ]
     },
     "execution_count": 54,
     "metadata": {},
     "output_type": "execute_result"
    }
   ],
   "source": [
    "stats.mode(filtrado['CONTEO'])"
   ]
  },
  {
   "cell_type": "code",
   "execution_count": 57,
   "metadata": {},
   "outputs": [
    {
     "name": "stdout",
     "output_type": "stream",
     "text": [
      "16 1\n"
     ]
    },
    {
     "data": {
      "text/plain": [
       "4.0"
      ]
     },
     "execution_count": 57,
     "metadata": {},
     "output_type": "execute_result"
    }
   ],
   "source": [
    "al=max(filtrado['CONTEO'])\n",
    "ba=min(filtrado['CONTEO'])\n",
    "print(al,ba)\n",
    "np.median(filtrado['CONTEO'])"
   ]
  },
  {
   "cell_type": "code",
   "execution_count": 64,
   "metadata": {},
   "outputs": [
    {
     "data": {
      "text/html": [
       "<div>\n",
       "<style scoped>\n",
       "    .dataframe tbody tr th:only-of-type {\n",
       "        vertical-align: middle;\n",
       "    }\n",
       "\n",
       "    .dataframe tbody tr th {\n",
       "        vertical-align: top;\n",
       "    }\n",
       "\n",
       "    .dataframe thead th {\n",
       "        text-align: right;\n",
       "    }\n",
       "</style>\n",
       "<table border=\"1\" class=\"dataframe\">\n",
       "  <thead>\n",
       "    <tr style=\"text-align: right;\">\n",
       "      <th></th>\n",
       "      <th>EDAD</th>\n",
       "    </tr>\n",
       "  </thead>\n",
       "  <tbody>\n",
       "    <tr>\n",
       "      <th>0</th>\n",
       "      <td>65</td>\n",
       "    </tr>\n",
       "    <tr>\n",
       "      <th>1</th>\n",
       "      <td>52</td>\n",
       "    </tr>\n",
       "    <tr>\n",
       "      <th>2</th>\n",
       "      <td>28</td>\n",
       "    </tr>\n",
       "    <tr>\n",
       "      <th>3</th>\n",
       "      <td>49</td>\n",
       "    </tr>\n",
       "    <tr>\n",
       "      <th>4</th>\n",
       "      <td>41</td>\n",
       "    </tr>\n",
       "    <tr>\n",
       "      <th>...</th>\n",
       "      <td>...</td>\n",
       "    </tr>\n",
       "    <tr>\n",
       "      <th>47139</th>\n",
       "      <td>33</td>\n",
       "    </tr>\n",
       "    <tr>\n",
       "      <th>47140</th>\n",
       "      <td>26</td>\n",
       "    </tr>\n",
       "    <tr>\n",
       "      <th>47141</th>\n",
       "      <td>30</td>\n",
       "    </tr>\n",
       "    <tr>\n",
       "      <th>47142</th>\n",
       "      <td>45</td>\n",
       "    </tr>\n",
       "    <tr>\n",
       "      <th>47143</th>\n",
       "      <td>49</td>\n",
       "    </tr>\n",
       "  </tbody>\n",
       "</table>\n",
       "<p>47144 rows × 1 columns</p>\n",
       "</div>"
      ],
      "text/plain": [
       "       EDAD\n",
       "0        65\n",
       "1        52\n",
       "2        28\n",
       "3        49\n",
       "4        41\n",
       "...     ...\n",
       "47139    33\n",
       "47140    26\n",
       "47141    30\n",
       "47142    45\n",
       "47143    49\n",
       "\n",
       "[47144 rows x 1 columns]"
      ]
     },
     "execution_count": 64,
     "metadata": {},
     "output_type": "execute_result"
    }
   ],
   "source": [
    "Edades=pd.read_csv('Edad_con.csv')\n",
    "Edades.drop('Unnamed: 0', axis=1)"
   ]
  },
  {
   "cell_type": "markdown",
   "metadata": {},
   "source": [
    "- Z=1.96\n",
    "- p=0.5\n",
    "- q=0.5\n",
    "- N=47144\n",
    "- E=0.05\n",
    "\\begin{align}\n",
    "n=\\frac{(Z^2)*q*p*N}{(N*(E^2))+((Z^2)*p*q)}\n",
    "\\end{align}\n",
    "\n",
    "Sustituyendo:\n",
    "\n",
    "\\begin{align}\n",
    "n=\\frac{(1.96^2)*0.5*0.5*47144}{(47144*(0.05^2))+((1.96^2)*0.5*0.5)}\n",
    "\\end{align}"
   ]
  },
  {
   "cell_type": "code",
   "execution_count": 66,
   "metadata": {},
   "outputs": [
    {
     "data": {
      "text/plain": [
       "381.0549164958204"
      ]
     },
     "execution_count": 66,
     "metadata": {},
     "output_type": "execute_result"
    }
   ],
   "source": [
    "Z=1.96\n",
    "p=0.5\n",
    "q=0.5\n",
    "N=47144\n",
    "E=0.05\n",
    "n=((Z**2)*q*p*N)/((N*(E**2))+((Z**2)*p*q))\n",
    "n"
   ]
  },
  {
   "cell_type": "code",
   "execution_count": 92,
   "metadata": {},
   "outputs": [
    {
     "data": {
      "text/plain": [
       "array([ 2070, 23726,  5760, 21015, 23335, 34849, 28586,  1523,  8451,\n",
       "       26337, 32816, 25883, 22559, 14002, 25770, 14039, 16797, 21676,\n",
       "       23465,  8624, 14103, 31073, 41336, 26727, 28295, 31271, 43709,\n",
       "       20548, 32920, 42891, 29980, 34303,  4799,  2083, 19190, 20464,\n",
       "       20198, 39265, 43804, 26412, 12767,  3936, 15475, 27805, 44807,\n",
       "        3376, 13420,  2482,  3188, 16288,  9242,  3614, 34711, 16438,\n",
       "       38561, 12852, 39103, 28806, 20693, 39492, 41529, 25402, 10039,\n",
       "       16516, 21608,  2206, 23326, 17014, 16522,  7802,  6952, 22105,\n",
       "       35943,  9940, 35553,   663, 32122, 30127, 43811,  6264, 11943,\n",
       "       18551, 21703, 21270, 24109, 39294, 45240, 25881, 28353, 30685,\n",
       "       42000,  3460,  1400, 17024, 13350,  3492, 39429, 42115, 14988,\n",
       "       11321, 18056, 10155, 43166, 23800, 38081,  4676, 35375, 23942,\n",
       "       36823,  4267, 15237, 11678, 46480, 24972, 30745, 31970, 10009,\n",
       "       16483, 42144, 29540, 16150,   312, 31243, 36813, 24406,  3501,\n",
       "        8924, 28543, 30653, 43538,  6172, 16610, 32391, 15703,  9503,\n",
       "       18984, 18357, 34365, 30824, 15518,  4312, 27883, 17248, 19715,\n",
       "       33900, 32505, 36866,  3906, 42941, 44916,  4827, 42966, 36305,\n",
       "        9130, 13101,  8991, 15216, 17732, 35959, 31610, 23623, 23827,\n",
       "       23193,  4521, 23974, 19667,  8519, 24203, 16032, 24396, 12211,\n",
       "       13278,  9314,  7788,  2291, 28340,  9042, 16410, 28814, 21079,\n",
       "       17009, 20449, 33806,  5911, 33574, 29834,  6543,  3589, 39675,\n",
       "       28772, 11322, 30460, 25186, 14460, 39162,  9502, 19155, 22243,\n",
       "       38559,  4753, 39381, 20578, 39779, 34274,  1328, 35389, 25913,\n",
       "       17694, 46412, 46928, 26596,  1918, 22933,  6972, 46242, 33175,\n",
       "       40099,  5991, 24224, 25821, 20244, 40665, 16190,  2738, 33502,\n",
       "        1521,  7572, 15247, 27265, 32400, 39285, 12896,   882, 44133,\n",
       "       18669,  2805, 17435, 34853,  4026,  5139,  8807, 40265, 26642,\n",
       "       19268, 13607, 13302, 38598, 38971, 44157, 25054, 13767, 35273,\n",
       "        9550, 11653,  9047, 18581, 44393,  3809, 10956, 10575, 23207,\n",
       "       18603, 30545,  5248, 26179, 40132,  6402, 32284,  7030, 33948,\n",
       "       41336, 33868, 20076, 25789, 46388, 25982, 12203,  3748, 12186,\n",
       "       30429, 12076, 11760, 24771, 23127,  8491, 24106,  5431,  6174,\n",
       "        7366, 12257, 29534, 26703, 31164, 31856, 19358, 10673, 25154,\n",
       "       22718, 17808,  3550, 38212, 27739,   223, 18994, 14858, 46754,\n",
       "       20651,  8130, 30611, 37818, 41517, 44125, 24403, 22750, 38755,\n",
       "       36981, 40737, 30274, 33982, 44656, 18495, 21320, 46051, 22227,\n",
       "       39840,  4723, 41075,  3146, 28699, 39854, 37327,   284,  7986,\n",
       "       14823, 37765, 40881,   243, 45031, 32508, 22306, 35153, 25594,\n",
       "       25483, 34639, 17625, 20108,  7983, 31269,  5006, 22420,  8463,\n",
       "       27949, 32036, 41531, 26548, 21190,  8467, 43989,  2036, 35011,\n",
       "       27369, 28614, 46529,  9745, 33630, 40593, 30347,  3625, 46502,\n",
       "       39650,  5052,    18, 23009, 23581, 22775, 46542, 36795,  2005,\n",
       "       34814, 34518, 24611])"
      ]
     },
     "execution_count": 92,
     "metadata": {},
     "output_type": "execute_result"
    }
   ],
   "source": [
    "aleato_ed=np.random.randint(0,47143,381)\n",
    "aleato_ed"
   ]
  },
  {
   "cell_type": "code",
   "execution_count": 93,
   "metadata": {},
   "outputs": [
    {
     "data": {
      "text/html": [
       "<div>\n",
       "<style scoped>\n",
       "    .dataframe tbody tr th:only-of-type {\n",
       "        vertical-align: middle;\n",
       "    }\n",
       "\n",
       "    .dataframe tbody tr th {\n",
       "        vertical-align: top;\n",
       "    }\n",
       "\n",
       "    .dataframe thead th {\n",
       "        text-align: right;\n",
       "    }\n",
       "</style>\n",
       "<table border=\"1\" class=\"dataframe\">\n",
       "  <thead>\n",
       "    <tr style=\"text-align: right;\">\n",
       "      <th></th>\n",
       "      <th>EDAD</th>\n",
       "    </tr>\n",
       "  </thead>\n",
       "  <tbody>\n",
       "    <tr>\n",
       "      <th>2070</th>\n",
       "      <td>73</td>\n",
       "    </tr>\n",
       "    <tr>\n",
       "      <th>23726</th>\n",
       "      <td>57</td>\n",
       "    </tr>\n",
       "    <tr>\n",
       "      <th>5760</th>\n",
       "      <td>43</td>\n",
       "    </tr>\n",
       "    <tr>\n",
       "      <th>21015</th>\n",
       "      <td>49</td>\n",
       "    </tr>\n",
       "    <tr>\n",
       "      <th>23335</th>\n",
       "      <td>44</td>\n",
       "    </tr>\n",
       "    <tr>\n",
       "      <th>...</th>\n",
       "      <td>...</td>\n",
       "    </tr>\n",
       "    <tr>\n",
       "      <th>36795</th>\n",
       "      <td>38</td>\n",
       "    </tr>\n",
       "    <tr>\n",
       "      <th>2005</th>\n",
       "      <td>44</td>\n",
       "    </tr>\n",
       "    <tr>\n",
       "      <th>34814</th>\n",
       "      <td>51</td>\n",
       "    </tr>\n",
       "    <tr>\n",
       "      <th>34518</th>\n",
       "      <td>62</td>\n",
       "    </tr>\n",
       "    <tr>\n",
       "      <th>24611</th>\n",
       "      <td>42</td>\n",
       "    </tr>\n",
       "  </tbody>\n",
       "</table>\n",
       "<p>381 rows × 1 columns</p>\n",
       "</div>"
      ],
      "text/plain": [
       "       EDAD\n",
       "2070     73\n",
       "23726    57\n",
       "5760     43\n",
       "21015    49\n",
       "23335    44\n",
       "...     ...\n",
       "36795    38\n",
       "2005     44\n",
       "34814    51\n",
       "34518    62\n",
       "24611    42\n",
       "\n",
       "[381 rows x 1 columns]"
      ]
     },
     "execution_count": 93,
     "metadata": {},
     "output_type": "execute_result"
    }
   ],
   "source": [
    "Filter_ed  = Edades.loc[aleato_ed]\n",
    "Filter_ed.drop('Unnamed: 0',axis=1)"
   ]
  },
  {
   "cell_type": "code",
   "execution_count": 94,
   "metadata": {},
   "outputs": [
    {
     "data": {
      "text/html": [
       "<div>\n",
       "<style scoped>\n",
       "    .dataframe tbody tr th:only-of-type {\n",
       "        vertical-align: middle;\n",
       "    }\n",
       "\n",
       "    .dataframe tbody tr th {\n",
       "        vertical-align: top;\n",
       "    }\n",
       "\n",
       "    .dataframe thead th {\n",
       "        text-align: right;\n",
       "    }\n",
       "</style>\n",
       "<table border=\"1\" class=\"dataframe\">\n",
       "  <thead>\n",
       "    <tr style=\"text-align: right;\">\n",
       "      <th></th>\n",
       "      <th>EDAD</th>\n",
       "      <th>CONTEO</th>\n",
       "    </tr>\n",
       "  </thead>\n",
       "  <tbody>\n",
       "    <tr>\n",
       "      <th>0</th>\n",
       "      <td>8</td>\n",
       "      <td>1</td>\n",
       "    </tr>\n",
       "    <tr>\n",
       "      <th>1</th>\n",
       "      <td>11</td>\n",
       "      <td>1</td>\n",
       "    </tr>\n",
       "    <tr>\n",
       "      <th>2</th>\n",
       "      <td>14</td>\n",
       "      <td>1</td>\n",
       "    </tr>\n",
       "    <tr>\n",
       "      <th>3</th>\n",
       "      <td>16</td>\n",
       "      <td>3</td>\n",
       "    </tr>\n",
       "    <tr>\n",
       "      <th>4</th>\n",
       "      <td>17</td>\n",
       "      <td>1</td>\n",
       "    </tr>\n",
       "    <tr>\n",
       "      <th>...</th>\n",
       "      <td>...</td>\n",
       "      <td>...</td>\n",
       "    </tr>\n",
       "    <tr>\n",
       "      <th>62</th>\n",
       "      <td>78</td>\n",
       "      <td>1</td>\n",
       "    </tr>\n",
       "    <tr>\n",
       "      <th>63</th>\n",
       "      <td>80</td>\n",
       "      <td>1</td>\n",
       "    </tr>\n",
       "    <tr>\n",
       "      <th>64</th>\n",
       "      <td>82</td>\n",
       "      <td>1</td>\n",
       "    </tr>\n",
       "    <tr>\n",
       "      <th>65</th>\n",
       "      <td>83</td>\n",
       "      <td>2</td>\n",
       "    </tr>\n",
       "    <tr>\n",
       "      <th>66</th>\n",
       "      <td>85</td>\n",
       "      <td>2</td>\n",
       "    </tr>\n",
       "  </tbody>\n",
       "</table>\n",
       "<p>67 rows × 2 columns</p>\n",
       "</div>"
      ],
      "text/plain": [
       "    EDAD  CONTEO\n",
       "0      8       1\n",
       "1     11       1\n",
       "2     14       1\n",
       "3     16       3\n",
       "4     17       1\n",
       "..   ...     ...\n",
       "62    78       1\n",
       "63    80       1\n",
       "64    82       1\n",
       "65    83       2\n",
       "66    85       2\n",
       "\n",
       "[67 rows x 2 columns]"
      ]
     },
     "execution_count": 94,
     "metadata": {},
     "output_type": "execute_result"
    }
   ],
   "source": [
    "filt_ed=Filter_ed.groupby(Filter_ed['EDAD']).count().reset_index()\n",
    "filt_ed=filt_ed.sort_values('EDAD')\n",
    "filt_ed=filt_ed.rename(columns={\"Unnamed: 0\": 'CONTEO'})\n",
    "filt_ed"
   ]
  },
  {
   "cell_type": "code",
   "execution_count": 95,
   "metadata": {},
   "outputs": [
    {
     "data": {
      "image/png": "[encoded data removed]",
      "text/plain": [
       "<Figure size 1080x576 with 1 Axes>"
      ]
     },
     "metadata": {
      "needs_background": "light"
     },
     "output_type": "display_data"
    }
   ],
   "source": [
    "x_pos = [str(i) for i in filt_ed['EDAD']]\n",
    "plt.figure(figsize=(15,8))\n",
    "plt.bar(x_pos,filt_ed['CONTEO'],width=0.9,color='green')\n",
    "plt.xticks(rotation=90)\n",
    "plt.title(\"Histograma\")\n",
    "plt.xlabel(\"Calificaciones finales\")\n",
    "plt.xlabel(\"Edad\")\n",
    "plt.ylabel(\"Frecuencia\")\n",
    "plt.show()"
   ]
  },
  {
   "cell_type": "code",
   "execution_count": 98,
   "metadata": {},
   "outputs": [
    {
     "data": {
      "text/plain": [
       "45.79002624671916"
      ]
     },
     "execution_count": 98,
     "metadata": {},
     "output_type": "execute_result"
    }
   ],
   "source": [
    "N=sum(Filter_ed['EDAD'])\n",
    "N/381"
   ]
  },
  {
   "cell_type": "code",
   "execution_count": 99,
   "metadata": {},
   "outputs": [
    {
     "data": {
      "text/plain": [
       "17446"
      ]
     },
     "execution_count": 99,
     "metadata": {},
     "output_type": "execute_result"
    }
   ],
   "source": [
    "N"
   ]
  },
  {
   "cell_type": "markdown",
   "metadata": {},
   "source": [
    "\\begin{align}\n",
    "\\sum_{i=1}^{n}Edad_{i}=17446\n",
    "\\end{align}\n",
    "\n",
    "\\begin{align}\n",
    "Media=\\frac{17446}{381}=45.79\n",
    "\\end{align}"
   ]
  },
  {
   "cell_type": "code",
   "execution_count": 100,
   "metadata": {},
   "outputs": [
    {
     "data": {
      "text/plain": [
       "ModeResult(mode=array([44], dtype=int64), count=array([15]))"
      ]
     },
     "execution_count": 100,
     "metadata": {},
     "output_type": "execute_result"
    }
   ],
   "source": [
    "stats.mode(Filter_ed['EDAD'])"
   ]
  },
  {
   "cell_type": "code",
   "execution_count": 101,
   "metadata": {},
   "outputs": [
    {
     "name": "stdout",
     "output_type": "stream",
     "text": [
      "85 8\n"
     ]
    },
    {
     "data": {
      "text/plain": [
       "45.0"
      ]
     },
     "execution_count": 101,
     "metadata": {},
     "output_type": "execute_result"
    }
   ],
   "source": [
    "al=max(Filter_ed['EDAD'])\n",
    "ba=min(Filter_ed['EDAD'])\n",
    "print(al,ba)\n",
    "np.median(Filter_ed['EDAD'])"
   ]
  },
  {
   "cell_type": "code",
   "execution_count": 102,
   "metadata": {},
   "outputs": [
    {
     "data": {
      "text/plain": [
       "191.0"
      ]
     },
     "execution_count": 102,
     "metadata": {},
     "output_type": "execute_result"
    }
   ],
   "source": [
    "382/2"
   ]
  },
  {
   "cell_type": "markdown",
   "metadata": {},
   "source": [
    "\\begin{align}\n",
    "Mediana=\\frac{381+1}{2}=191\n",
    "\\end{align}"
   ]
  },
  {
   "cell_type": "code",
   "execution_count": 116,
   "metadata": {},
   "outputs": [],
   "source": [
    "f=Filter_ed.sort_values('EDAD').reset_index().drop(['index','Unnamed: 0'],axis=1)"
   ]
  },
  {
   "cell_type": "code",
   "execution_count": 121,
   "metadata": {},
   "outputs": [
    {
     "data": {
      "text/html": [
       "<div>\n",
       "<style scoped>\n",
       "    .dataframe tbody tr th:only-of-type {\n",
       "        vertical-align: middle;\n",
       "    }\n",
       "\n",
       "    .dataframe tbody tr th {\n",
       "        vertical-align: top;\n",
       "    }\n",
       "\n",
       "    .dataframe thead th {\n",
       "        text-align: right;\n",
       "    }\n",
       "</style>\n",
       "<table border=\"1\" class=\"dataframe\">\n",
       "  <thead>\n",
       "    <tr style=\"text-align: right;\">\n",
       "      <th></th>\n",
       "      <th>EDAD</th>\n",
       "    </tr>\n",
       "  </thead>\n",
       "  <tbody>\n",
       "    <tr>\n",
       "      <th>190</th>\n",
       "      <td>45</td>\n",
       "    </tr>\n",
       "    <tr>\n",
       "      <th>191</th>\n",
       "      <td>45</td>\n",
       "    </tr>\n",
       "    <tr>\n",
       "      <th>192</th>\n",
       "      <td>45</td>\n",
       "    </tr>\n",
       "    <tr>\n",
       "      <th>193</th>\n",
       "      <td>45</td>\n",
       "    </tr>\n",
       "  </tbody>\n",
       "</table>\n",
       "</div>"
      ],
      "text/plain": [
       "     EDAD\n",
       "190    45\n",
       "191    45\n",
       "192    45\n",
       "193    45"
      ]
     },
     "execution_count": 121,
     "metadata": {},
     "output_type": "execute_result"
    }
   ],
   "source": [
    "f[190:194]"
   ]
  },
  {
   "cell_type": "code",
   "execution_count": 146,
   "metadata": {},
   "outputs": [
    {
     "data": {
      "text/plain": [
       "81749.20210000008"
      ]
     },
     "execution_count": 146,
     "metadata": {},
     "output_type": "execute_result"
    }
   ],
   "source": [
    "sed=0\n",
    "for i in Filter_ed['EDAD']:\n",
    "    sed+=(i-45.79)**2\n",
    "sed"
   ]
  },
  {
   "cell_type": "markdown",
   "metadata": {},
   "source": [
    "\\begin{align}\n",
    "\\sum_{i=1}^{n}(x_{i}-\\bar{x})^2=81749.20210000008\n",
    "\\end{align}\n"
   ]
  },
  {
   "cell_type": "markdown",
   "metadata": {},
   "source": [
    "\\begin{align}\n",
    "S^2=\\frac{81749.20210000008}{381-1}=215.12947921052654\n",
    "\\end{align}"
   ]
  },
  {
   "cell_type": "code",
   "execution_count": 137,
   "metadata": {},
   "outputs": [
    {
     "data": {
      "text/plain": [
       "215.12947921052654"
      ]
     },
     "execution_count": 137,
     "metadata": {},
     "output_type": "execute_result"
    }
   ],
   "source": [
    "s=sed/(381-1)\n",
    "s"
   ]
  },
  {
   "cell_type": "code",
   "execution_count": 138,
   "metadata": {},
   "outputs": [
    {
     "data": {
      "text/plain": [
       "14.667292838507267"
      ]
     },
     "execution_count": 138,
     "metadata": {},
     "output_type": "execute_result"
    }
   ],
   "source": [
    "np.sqrt(s)"
   ]
  },
  {
   "cell_type": "markdown",
   "metadata": {},
   "source": [
    "\\begin{align}\n",
    "\\sqrt{S^2}=\\sqrt{215.12947921052654}=14.667292838507267\n",
    "\\end{align}"
   ]
  },
  {
   "cell_type": "code",
   "execution_count": 130,
   "metadata": {},
   "outputs": [
    {
     "data": {
      "text/plain": [
       "214.5648349074477"
      ]
     },
     "execution_count": 130,
     "metadata": {},
     "output_type": "execute_result"
    }
   ],
   "source": [
    "np.var(Filter_ed['EDAD'])"
   ]
  },
  {
   "cell_type": "code",
   "execution_count": 142,
   "metadata": {},
   "outputs": [
    {
     "name": "stdout",
     "output_type": "stream",
     "text": [
      "El valor máximo de lamuestra es:  85\n",
      "El valor minimo de lamuestra es:  8\n",
      "El rango es:  77\n"
     ]
    }
   ],
   "source": [
    "print('El valor máximo de lamuestra es: ',max(f['EDAD']))\n",
    "print('El valor minimo de lamuestra es: ',min(f['EDAD']))\n",
    "print('El rango es: ', max(f['EDAD'])-min(f['EDAD']))"
   ]
  }
 ],
 "metadata": {
  "kernelspec": {
   "display_name": "Python 3",
   "language": "python",
   "name": "python3"
  },
  "language_info": {
   "codemirror_mode": {
    "name": "ipython",
    "version": 3
   },
   "file_extension": ".py",
   "mimetype": "text/x-python",
   "name": "python",
   "nbconvert_exporter": "python",
   "pygments_lexer": "ipython3",
   "version": "3.7.4"
  }
 },
 "nbformat": 4,
 "nbformat_minor": 2
}
